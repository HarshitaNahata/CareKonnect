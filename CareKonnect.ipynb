{
  "cells": [
    {
      "cell_type": "markdown",
      "metadata": {
        "id": "LfFgjFh0DHJL"
      },
      "source": [
        "# **Ambulance Placement System in a Large City**\n",
        "\n",
        "## **Introduction**\n",
        "In a large city, efficient placement of ambulances is critical for quick emergency response. This system divides the city into smaller localities and calculates scores based on various parameters such as population, age distribution, socioeconomic status, road size, and proximity to hospitals. These scores help determine the optimal locations and types of ambulances to be deployed."
      ]
    },
    {
      "cell_type": "markdown",
      "metadata": {
        "id": "S0-bQgdfMlgv"
      },
      "source": [
        "## **Idea**\n",
        "First the ambulances are placed on the map based on the data / history and then the route optimization is applied. The system optimizes ambulance placement and emergency response by leveraging real-time data, predictive analytics, and optimization algorithms. It collects and processes various data sources, including GPS data, Google Maps reviews, and historical emergency response data, to forecast emergency hotspots and optimize ambulance placement. The system then tracks ambulances in real-time, optimizes routes, and distributes patients efficiently across hospitals. Continuous monitoring and evaluation refine the system, ensuring improved response times, accurate predictions, and effective resource allocation. By integrating these components, the system enhances emergency response and saves lives."
      ]
    },
    {
      "cell_type": "markdown",
      "metadata": {
        "id": "AcM2NNwdMrHu"
      },
      "source": [
        "## **1. Data Preparation**\n",
        "To start, we need datasets that provide information about the city’s population, age distribution, socioeconomic status, road network, and hospitals. These datasets will be used to divide the city into localities and calculate the necessary parameters.\n",
        "\n",
        "### **Loading the Data**"
      ]
    },
    {
      "cell_type": "code",
      "execution_count": null,
      "metadata": {
        "id": "oMdYpU1MEXpa"
      },
      "outputs": [],
      "source": [
        "import pandas as pd"
      ]
    },
    {
      "cell_type": "code",
      "execution_count": null,
      "metadata": {
        "colab": {
          "base_uri": "https://localhost:8080/",
          "height": 356
        },
        "id": "l_G3CxK6EbQ3",
        "outputId": "0ec233f5-14d0-4437-ff2d-ee33f9b68f66"
      },
      "outputs": [],
      "source": [
        "# Load the datasets (replace with actual file paths)\n",
        "#population_data = pd.read_csv('population_data.csv')\n",
        "age_data = pd.read_csv('age_data.csv')\n",
        "socioeconomic_data = pd.read_csv('socioeconomic_data.csv')\n",
        "road_data = pd.read_csv('road_data.csv')\n",
        "hospital_data = pd.read_csv('hospital_data.csv')\n",
        "city_map = gpd.read_file('city_map.geojson')  # City boundary GeoJSON file"
      ]
    },
    {
      "cell_type": "code",
      "execution_count": null,
      "metadata": {
        "colab": {
          "base_uri": "https://localhost:8080/"
        },
        "id": "8p7R5lBBvifn",
        "outputId": "3234d815-bd03-4e26-9700-aaf69d1859d0"
      },
      "outputs": [],
      "source": [
        "!pip install gmplot geopy"
      ]
    },
    {
      "cell_type": "code",
      "execution_count": 1,
      "metadata": {
        "colab": {
          "base_uri": "https://localhost:8080/",
          "height": 366
        },
        "id": "2etdzVtOyXRJ",
        "outputId": "4a8ac13b-f2d6-4f17-e046-630ad9e46b9f"
      },
      "outputs": [],
      "source": [
        "from gmplot import gmplot\n",
        "from geopy.geocoders import Nominatim\n",
        "from geopy.distance import geodesic\n",
        "import numpy as np\n"
      ]
    },
    {
      "cell_type": "code",
      "execution_count": null,
      "metadata": {},
      "outputs": [],
      "source": [
        "pip install folium"
      ]
    },
    {
      "cell_type": "code",
      "execution_count": 15,
      "metadata": {},
      "outputs": [
        {
          "name": "stdout",
          "output_type": "stream",
          "text": [
            "Map has been saved to 'bangalore_zones_accident_prone_areas_map.html'. Open this file in a web browser to view the map.\n"
          ]
        }
      ],
      "source": [
        "import folium\n",
        "import pandas as pd\n",
        "import re\n",
        "\n",
        "# Initialize the map centered at Bangalore\n",
        "bangalore_center = [12.9716, 77.5946]\n",
        "bangalore_map = folium.Map(location=bangalore_center, zoom_start=11)\n",
        "\n",
        "# Define the zones with approximate rectangular boundaries\n",
        "zones = {\n",
        "    \"Central Bangalore\": {\n",
        "        \"coordinates\": [\n",
        "            [12.96, 77.56],\n",
        "            [12.96, 77.62],\n",
        "            [13.00, 77.62],\n",
        "            [13.00, 77.56],\n",
        "        ],\n",
        "        \"color\": \"blue\",\n",
        "        \"fill_opacity\": 0.4\n",
        "    },\n",
        "    \"North Bangalore\": {\n",
        "        \"coordinates\": [\n",
        "            [13.00, 77.56],\n",
        "            [13.00, 77.62],\n",
        "            [13.05, 77.62],\n",
        "            [13.05, 77.56],\n",
        "        ],\n",
        "        \"color\": \"green\",\n",
        "        \"fill_opacity\": 0.4\n",
        "    },\n",
        "    \"South Bangalore\": {\n",
        "        \"coordinates\": [\n",
        "            [12.90, 77.56],\n",
        "            [12.90, 77.62],\n",
        "            [12.96, 77.62],\n",
        "            [12.96, 77.56],\n",
        "        ],\n",
        "        \"color\": \"red\",\n",
        "        \"fill_opacity\": 0.4\n",
        "    },\n",
        "    \"East Bangalore\": {\n",
        "        \"coordinates\": [\n",
        "            [12.96, 77.62],\n",
        "            [12.96, 77.78],\n",
        "            [13.05, 77.78],\n",
        "            [13.05, 77.62],\n",
        "        ],\n",
        "        \"color\": \"purple\",\n",
        "        \"fill_opacity\": 0.4\n",
        "    },\n",
        "    \"West Bangalore\": {\n",
        "        \"coordinates\": [\n",
        "            [12.96, 77.40],\n",
        "            [12.96, 77.56],\n",
        "            [13.05, 77.56],\n",
        "            [13.05, 77.40],\n",
        "        ],\n",
        "        \"color\": \"orange\",\n",
        "        \"fill_opacity\": 0.4\n",
        "    },\n",
        "    \"Northeast Bangalore\": {\n",
        "        \"coordinates\": [\n",
        "            [13.00, 77.62],\n",
        "            [13.00, 77.78],\n",
        "            [13.05, 77.78],\n",
        "            [13.05, 77.62],\n",
        "        ],\n",
        "        \"color\": \"darkgreen\",\n",
        "        \"fill_opacity\": 0.4\n",
        "    },\n",
        "    \"Southeast Bangalore\": {\n",
        "        \"coordinates\": [\n",
        "            [12.90, 77.62],\n",
        "            [12.90, 77.78],\n",
        "            [12.96, 77.78],\n",
        "            [12.96, 77.62],\n",
        "        ],\n",
        "        \"color\": \"cadetblue\",\n",
        "        \"fill_opacity\": 0.4\n",
        "    },\n",
        "    \"Southwest Bangalore\": {\n",
        "        \"coordinates\": [\n",
        "            [12.90, 77.40],\n",
        "            [12.90, 77.56],\n",
        "            [12.96, 77.56],\n",
        "            [12.96, 77.40],\n",
        "        ],\n",
        "        \"color\": \"darkred\",\n",
        "        \"fill_opacity\": 0.4\n",
        "    },\n",
        "    \"Outer Bangalore\": {\n",
        "        \"coordinates\": [\n",
        "            [12.80, 77.30],\n",
        "            [12.80, 77.90],\n",
        "            [13.15, 77.90],\n",
        "            [13.15, 77.30],\n",
        "        ],\n",
        "        \"color\": \"lightgray\",\n",
        "        \"fill_opacity\": 0.1,\n",
        "        \"fill\": False  # Set to False to avoid overlapping fills\n",
        "    }\n",
        "}\n",
        "\n",
        "# Function to add zones to the map\n",
        "def add_zones(map_obj, zones_dict):\n",
        "    for zone_name, zone_info in zones_dict.items():\n",
        "        coords = zone_info[\"coordinates\"]\n",
        "        color = zone_info[\"color\"]\n",
        "        fill_opacity = zone_info.get(\"fill_opacity\", 0.3)\n",
        "        fill = zone_info.get(\"fill\", True)\n",
        "        \n",
        "        folium.Polygon(\n",
        "            locations=coords,\n",
        "            color=color,\n",
        "            weight=2,\n",
        "            fill=fill,\n",
        "            fill_color=color if fill else None,\n",
        "            fill_opacity=fill_opacity,\n",
        "            tooltip=zone_name,\n",
        "        ).add_to(map_obj)\n",
        "\n",
        "# Add all zones to the map\n",
        "add_zones(bangalore_map, zones)\n",
        "\n",
        "# Function to convert coordinate strings to decimal format\n",
        "def convert_to_decimal(coordinate):\n",
        "    match = re.match(r\"(\\d+\\.\\d+)° N, (\\d+\\.\\d+)° E\", coordinate)\n",
        "    if match:\n",
        "        return float(match.group(1)), float(match.group(2))\n",
        "    return None, None\n",
        "\n",
        "# Load the accident-prone areas data from the CSV file\n",
        "file_path = 'accident prone areas_bangalore.csv'\n",
        "data = pd.read_csv(file_path)\n",
        "\n",
        "# Extract latitude and longitude for each area\n",
        "data['Latitude'], data['Longitude'] = zip(*data['Approximate Coordinates'].map(convert_to_decimal))\n",
        "\n",
        "# Remove rows with NaN values\n",
        "data.dropna(subset=['Latitude', 'Longitude'], inplace=True)\n",
        "\n",
        "# Plot each accident-prone area on the map\n",
        "for lat, lon in zip(data['Latitude'], data['Longitude']):\n",
        "    folium.Marker([lat, lon], icon=folium.Icon(color='red')).add_to(bangalore_map)\n",
        "\n",
        "# Add a layer control to toggle zones if needed\n",
        "folium.LayerControl().add_to(bangalore_map)\n",
        "\n",
        "# Save the map to an HTML file\n",
        "bangalore_map.save(\"bangalore_zones_accident_prone_areas_map_1.html\")\n",
        "\n",
        "print(\"Map has been saved to 'bangalore_zones_accident_prone_areas_map.html'. Open this file in a web browser to view the map.\")"
      ]
    },
    {
      "cell_type": "code",
      "execution_count": 16,
      "metadata": {},
      "outputs": [
        {
          "ename": "FileNotFoundError",
          "evalue": "[Errno 2] No such file or directory: '/content/Bengaluru_House_Data.csv'",
          "output_type": "error",
          "traceback": [
            "\u001b[1;31m---------------------------------------------------------------------------\u001b[0m",
            "\u001b[1;31mFileNotFoundError\u001b[0m                         Traceback (most recent call last)",
            "Cell \u001b[1;32mIn[16], line 2\u001b[0m\n\u001b[0;32m      1\u001b[0m \u001b[38;5;66;03m# Load the CSV file - Bangalore City EDA for Socioeconmic data\u001b[39;00m\n\u001b[1;32m----> 2\u001b[0m df \u001b[38;5;241m=\u001b[39m \u001b[43mpd\u001b[49m\u001b[38;5;241;43m.\u001b[39;49m\u001b[43mread_csv\u001b[49m\u001b[43m(\u001b[49m\u001b[38;5;124;43m'\u001b[39;49m\u001b[38;5;124;43m/content/Bengaluru_House_Data.csv\u001b[39;49m\u001b[38;5;124;43m'\u001b[39;49m\u001b[43m)\u001b[49m\n\u001b[0;32m      4\u001b[0m \u001b[38;5;66;03m# Ensure columns are correctly named\u001b[39;00m\n\u001b[0;32m      5\u001b[0m df\u001b[38;5;241m.\u001b[39mcolumns \u001b[38;5;241m=\u001b[39m [\u001b[38;5;124m'\u001b[39m\u001b[38;5;124mlocation\u001b[39m\u001b[38;5;124m'\u001b[39m, \u001b[38;5;124m'\u001b[39m\u001b[38;5;124msize\u001b[39m\u001b[38;5;124m'\u001b[39m, \u001b[38;5;124m'\u001b[39m\u001b[38;5;124mtotal_sqft\u001b[39m\u001b[38;5;124m'\u001b[39m, \u001b[38;5;124m'\u001b[39m\u001b[38;5;124mprice\u001b[39m\u001b[38;5;124m'\u001b[39m]\n",
            "File \u001b[1;32m~\\AppData\\Local\\Packages\\PythonSoftwareFoundation.Python.3.10_qbz5n2kfra8p0\\LocalCache\\local-packages\\Python310\\site-packages\\pandas\\io\\parsers\\readers.py:948\u001b[0m, in \u001b[0;36mread_csv\u001b[1;34m(filepath_or_buffer, sep, delimiter, header, names, index_col, usecols, dtype, engine, converters, true_values, false_values, skipinitialspace, skiprows, skipfooter, nrows, na_values, keep_default_na, na_filter, verbose, skip_blank_lines, parse_dates, infer_datetime_format, keep_date_col, date_parser, date_format, dayfirst, cache_dates, iterator, chunksize, compression, thousands, decimal, lineterminator, quotechar, quoting, doublequote, escapechar, comment, encoding, encoding_errors, dialect, on_bad_lines, delim_whitespace, low_memory, memory_map, float_precision, storage_options, dtype_backend)\u001b[0m\n\u001b[0;32m    935\u001b[0m kwds_defaults \u001b[38;5;241m=\u001b[39m _refine_defaults_read(\n\u001b[0;32m    936\u001b[0m     dialect,\n\u001b[0;32m    937\u001b[0m     delimiter,\n\u001b[1;32m   (...)\u001b[0m\n\u001b[0;32m    944\u001b[0m     dtype_backend\u001b[38;5;241m=\u001b[39mdtype_backend,\n\u001b[0;32m    945\u001b[0m )\n\u001b[0;32m    946\u001b[0m kwds\u001b[38;5;241m.\u001b[39mupdate(kwds_defaults)\n\u001b[1;32m--> 948\u001b[0m \u001b[38;5;28;01mreturn\u001b[39;00m \u001b[43m_read\u001b[49m\u001b[43m(\u001b[49m\u001b[43mfilepath_or_buffer\u001b[49m\u001b[43m,\u001b[49m\u001b[43m \u001b[49m\u001b[43mkwds\u001b[49m\u001b[43m)\u001b[49m\n",
            "File \u001b[1;32m~\\AppData\\Local\\Packages\\PythonSoftwareFoundation.Python.3.10_qbz5n2kfra8p0\\LocalCache\\local-packages\\Python310\\site-packages\\pandas\\io\\parsers\\readers.py:611\u001b[0m, in \u001b[0;36m_read\u001b[1;34m(filepath_or_buffer, kwds)\u001b[0m\n\u001b[0;32m    608\u001b[0m _validate_names(kwds\u001b[38;5;241m.\u001b[39mget(\u001b[38;5;124m\"\u001b[39m\u001b[38;5;124mnames\u001b[39m\u001b[38;5;124m\"\u001b[39m, \u001b[38;5;28;01mNone\u001b[39;00m))\n\u001b[0;32m    610\u001b[0m \u001b[38;5;66;03m# Create the parser.\u001b[39;00m\n\u001b[1;32m--> 611\u001b[0m parser \u001b[38;5;241m=\u001b[39m TextFileReader(filepath_or_buffer, \u001b[38;5;241m*\u001b[39m\u001b[38;5;241m*\u001b[39mkwds)\n\u001b[0;32m    613\u001b[0m \u001b[38;5;28;01mif\u001b[39;00m chunksize \u001b[38;5;129;01mor\u001b[39;00m iterator:\n\u001b[0;32m    614\u001b[0m     \u001b[38;5;28;01mreturn\u001b[39;00m parser\n",
            "File \u001b[1;32m~\\AppData\\Local\\Packages\\PythonSoftwareFoundation.Python.3.10_qbz5n2kfra8p0\\LocalCache\\local-packages\\Python310\\site-packages\\pandas\\io\\parsers\\readers.py:1448\u001b[0m, in \u001b[0;36mTextFileReader.__init__\u001b[1;34m(self, f, engine, **kwds)\u001b[0m\n\u001b[0;32m   1445\u001b[0m     \u001b[38;5;28mself\u001b[39m\u001b[38;5;241m.\u001b[39moptions[\u001b[38;5;124m\"\u001b[39m\u001b[38;5;124mhas_index_names\u001b[39m\u001b[38;5;124m\"\u001b[39m] \u001b[38;5;241m=\u001b[39m kwds[\u001b[38;5;124m\"\u001b[39m\u001b[38;5;124mhas_index_names\u001b[39m\u001b[38;5;124m\"\u001b[39m]\n\u001b[0;32m   1447\u001b[0m \u001b[38;5;28mself\u001b[39m\u001b[38;5;241m.\u001b[39mhandles: IOHandles \u001b[38;5;241m|\u001b[39m \u001b[38;5;28;01mNone\u001b[39;00m \u001b[38;5;241m=\u001b[39m \u001b[38;5;28;01mNone\u001b[39;00m\n\u001b[1;32m-> 1448\u001b[0m \u001b[38;5;28mself\u001b[39m\u001b[38;5;241m.\u001b[39m_engine \u001b[38;5;241m=\u001b[39m \u001b[38;5;28;43mself\u001b[39;49m\u001b[38;5;241;43m.\u001b[39;49m\u001b[43m_make_engine\u001b[49m\u001b[43m(\u001b[49m\u001b[43mf\u001b[49m\u001b[43m,\u001b[49m\u001b[43m \u001b[49m\u001b[38;5;28;43mself\u001b[39;49m\u001b[38;5;241;43m.\u001b[39;49m\u001b[43mengine\u001b[49m\u001b[43m)\u001b[49m\n",
            "File \u001b[1;32m~\\AppData\\Local\\Packages\\PythonSoftwareFoundation.Python.3.10_qbz5n2kfra8p0\\LocalCache\\local-packages\\Python310\\site-packages\\pandas\\io\\parsers\\readers.py:1705\u001b[0m, in \u001b[0;36mTextFileReader._make_engine\u001b[1;34m(self, f, engine)\u001b[0m\n\u001b[0;32m   1703\u001b[0m     \u001b[38;5;28;01mif\u001b[39;00m \u001b[38;5;124m\"\u001b[39m\u001b[38;5;124mb\u001b[39m\u001b[38;5;124m\"\u001b[39m \u001b[38;5;129;01mnot\u001b[39;00m \u001b[38;5;129;01min\u001b[39;00m mode:\n\u001b[0;32m   1704\u001b[0m         mode \u001b[38;5;241m+\u001b[39m\u001b[38;5;241m=\u001b[39m \u001b[38;5;124m\"\u001b[39m\u001b[38;5;124mb\u001b[39m\u001b[38;5;124m\"\u001b[39m\n\u001b[1;32m-> 1705\u001b[0m \u001b[38;5;28mself\u001b[39m\u001b[38;5;241m.\u001b[39mhandles \u001b[38;5;241m=\u001b[39m \u001b[43mget_handle\u001b[49m\u001b[43m(\u001b[49m\n\u001b[0;32m   1706\u001b[0m \u001b[43m    \u001b[49m\u001b[43mf\u001b[49m\u001b[43m,\u001b[49m\n\u001b[0;32m   1707\u001b[0m \u001b[43m    \u001b[49m\u001b[43mmode\u001b[49m\u001b[43m,\u001b[49m\n\u001b[0;32m   1708\u001b[0m \u001b[43m    \u001b[49m\u001b[43mencoding\u001b[49m\u001b[38;5;241;43m=\u001b[39;49m\u001b[38;5;28;43mself\u001b[39;49m\u001b[38;5;241;43m.\u001b[39;49m\u001b[43moptions\u001b[49m\u001b[38;5;241;43m.\u001b[39;49m\u001b[43mget\u001b[49m\u001b[43m(\u001b[49m\u001b[38;5;124;43m\"\u001b[39;49m\u001b[38;5;124;43mencoding\u001b[39;49m\u001b[38;5;124;43m\"\u001b[39;49m\u001b[43m,\u001b[49m\u001b[43m \u001b[49m\u001b[38;5;28;43;01mNone\u001b[39;49;00m\u001b[43m)\u001b[49m\u001b[43m,\u001b[49m\n\u001b[0;32m   1709\u001b[0m \u001b[43m    \u001b[49m\u001b[43mcompression\u001b[49m\u001b[38;5;241;43m=\u001b[39;49m\u001b[38;5;28;43mself\u001b[39;49m\u001b[38;5;241;43m.\u001b[39;49m\u001b[43moptions\u001b[49m\u001b[38;5;241;43m.\u001b[39;49m\u001b[43mget\u001b[49m\u001b[43m(\u001b[49m\u001b[38;5;124;43m\"\u001b[39;49m\u001b[38;5;124;43mcompression\u001b[39;49m\u001b[38;5;124;43m\"\u001b[39;49m\u001b[43m,\u001b[49m\u001b[43m \u001b[49m\u001b[38;5;28;43;01mNone\u001b[39;49;00m\u001b[43m)\u001b[49m\u001b[43m,\u001b[49m\n\u001b[0;32m   1710\u001b[0m \u001b[43m    \u001b[49m\u001b[43mmemory_map\u001b[49m\u001b[38;5;241;43m=\u001b[39;49m\u001b[38;5;28;43mself\u001b[39;49m\u001b[38;5;241;43m.\u001b[39;49m\u001b[43moptions\u001b[49m\u001b[38;5;241;43m.\u001b[39;49m\u001b[43mget\u001b[49m\u001b[43m(\u001b[49m\u001b[38;5;124;43m\"\u001b[39;49m\u001b[38;5;124;43mmemory_map\u001b[39;49m\u001b[38;5;124;43m\"\u001b[39;49m\u001b[43m,\u001b[49m\u001b[43m \u001b[49m\u001b[38;5;28;43;01mFalse\u001b[39;49;00m\u001b[43m)\u001b[49m\u001b[43m,\u001b[49m\n\u001b[0;32m   1711\u001b[0m \u001b[43m    \u001b[49m\u001b[43mis_text\u001b[49m\u001b[38;5;241;43m=\u001b[39;49m\u001b[43mis_text\u001b[49m\u001b[43m,\u001b[49m\n\u001b[0;32m   1712\u001b[0m \u001b[43m    \u001b[49m\u001b[43merrors\u001b[49m\u001b[38;5;241;43m=\u001b[39;49m\u001b[38;5;28;43mself\u001b[39;49m\u001b[38;5;241;43m.\u001b[39;49m\u001b[43moptions\u001b[49m\u001b[38;5;241;43m.\u001b[39;49m\u001b[43mget\u001b[49m\u001b[43m(\u001b[49m\u001b[38;5;124;43m\"\u001b[39;49m\u001b[38;5;124;43mencoding_errors\u001b[39;49m\u001b[38;5;124;43m\"\u001b[39;49m\u001b[43m,\u001b[49m\u001b[43m \u001b[49m\u001b[38;5;124;43m\"\u001b[39;49m\u001b[38;5;124;43mstrict\u001b[39;49m\u001b[38;5;124;43m\"\u001b[39;49m\u001b[43m)\u001b[49m\u001b[43m,\u001b[49m\n\u001b[0;32m   1713\u001b[0m \u001b[43m    \u001b[49m\u001b[43mstorage_options\u001b[49m\u001b[38;5;241;43m=\u001b[39;49m\u001b[38;5;28;43mself\u001b[39;49m\u001b[38;5;241;43m.\u001b[39;49m\u001b[43moptions\u001b[49m\u001b[38;5;241;43m.\u001b[39;49m\u001b[43mget\u001b[49m\u001b[43m(\u001b[49m\u001b[38;5;124;43m\"\u001b[39;49m\u001b[38;5;124;43mstorage_options\u001b[39;49m\u001b[38;5;124;43m\"\u001b[39;49m\u001b[43m,\u001b[49m\u001b[43m \u001b[49m\u001b[38;5;28;43;01mNone\u001b[39;49;00m\u001b[43m)\u001b[49m\u001b[43m,\u001b[49m\n\u001b[0;32m   1714\u001b[0m \u001b[43m\u001b[49m\u001b[43m)\u001b[49m\n\u001b[0;32m   1715\u001b[0m \u001b[38;5;28;01massert\u001b[39;00m \u001b[38;5;28mself\u001b[39m\u001b[38;5;241m.\u001b[39mhandles \u001b[38;5;129;01mis\u001b[39;00m \u001b[38;5;129;01mnot\u001b[39;00m \u001b[38;5;28;01mNone\u001b[39;00m\n\u001b[0;32m   1716\u001b[0m f \u001b[38;5;241m=\u001b[39m \u001b[38;5;28mself\u001b[39m\u001b[38;5;241m.\u001b[39mhandles\u001b[38;5;241m.\u001b[39mhandle\n",
            "File \u001b[1;32m~\\AppData\\Local\\Packages\\PythonSoftwareFoundation.Python.3.10_qbz5n2kfra8p0\\LocalCache\\local-packages\\Python310\\site-packages\\pandas\\io\\common.py:863\u001b[0m, in \u001b[0;36mget_handle\u001b[1;34m(path_or_buf, mode, encoding, compression, memory_map, is_text, errors, storage_options)\u001b[0m\n\u001b[0;32m    858\u001b[0m \u001b[38;5;28;01melif\u001b[39;00m \u001b[38;5;28misinstance\u001b[39m(handle, \u001b[38;5;28mstr\u001b[39m):\n\u001b[0;32m    859\u001b[0m     \u001b[38;5;66;03m# Check whether the filename is to be opened in binary mode.\u001b[39;00m\n\u001b[0;32m    860\u001b[0m     \u001b[38;5;66;03m# Binary mode does not support 'encoding' and 'newline'.\u001b[39;00m\n\u001b[0;32m    861\u001b[0m     \u001b[38;5;28;01mif\u001b[39;00m ioargs\u001b[38;5;241m.\u001b[39mencoding \u001b[38;5;129;01mand\u001b[39;00m \u001b[38;5;124m\"\u001b[39m\u001b[38;5;124mb\u001b[39m\u001b[38;5;124m\"\u001b[39m \u001b[38;5;129;01mnot\u001b[39;00m \u001b[38;5;129;01min\u001b[39;00m ioargs\u001b[38;5;241m.\u001b[39mmode:\n\u001b[0;32m    862\u001b[0m         \u001b[38;5;66;03m# Encoding\u001b[39;00m\n\u001b[1;32m--> 863\u001b[0m         handle \u001b[38;5;241m=\u001b[39m \u001b[38;5;28;43mopen\u001b[39;49m\u001b[43m(\u001b[49m\n\u001b[0;32m    864\u001b[0m \u001b[43m            \u001b[49m\u001b[43mhandle\u001b[49m\u001b[43m,\u001b[49m\n\u001b[0;32m    865\u001b[0m \u001b[43m            \u001b[49m\u001b[43mioargs\u001b[49m\u001b[38;5;241;43m.\u001b[39;49m\u001b[43mmode\u001b[49m\u001b[43m,\u001b[49m\n\u001b[0;32m    866\u001b[0m \u001b[43m            \u001b[49m\u001b[43mencoding\u001b[49m\u001b[38;5;241;43m=\u001b[39;49m\u001b[43mioargs\u001b[49m\u001b[38;5;241;43m.\u001b[39;49m\u001b[43mencoding\u001b[49m\u001b[43m,\u001b[49m\n\u001b[0;32m    867\u001b[0m \u001b[43m            \u001b[49m\u001b[43merrors\u001b[49m\u001b[38;5;241;43m=\u001b[39;49m\u001b[43merrors\u001b[49m\u001b[43m,\u001b[49m\n\u001b[0;32m    868\u001b[0m \u001b[43m            \u001b[49m\u001b[43mnewline\u001b[49m\u001b[38;5;241;43m=\u001b[39;49m\u001b[38;5;124;43m\"\u001b[39;49m\u001b[38;5;124;43m\"\u001b[39;49m\u001b[43m,\u001b[49m\n\u001b[0;32m    869\u001b[0m \u001b[43m        \u001b[49m\u001b[43m)\u001b[49m\n\u001b[0;32m    870\u001b[0m     \u001b[38;5;28;01melse\u001b[39;00m:\n\u001b[0;32m    871\u001b[0m         \u001b[38;5;66;03m# Binary mode\u001b[39;00m\n\u001b[0;32m    872\u001b[0m         handle \u001b[38;5;241m=\u001b[39m \u001b[38;5;28mopen\u001b[39m(handle, ioargs\u001b[38;5;241m.\u001b[39mmode)\n",
            "\u001b[1;31mFileNotFoundError\u001b[0m: [Errno 2] No such file or directory: '/content/Bengaluru_House_Data.csv'"
          ]
        }
      ],
      "source": [
        "# Load the CSV file - Bangalore City EDA for Socioeconmic data\n",
        "df = pd.read_csv('/content/Bengaluru_House_Data.csv')\n",
        "\n",
        "# Ensure columns are correctly named\n",
        "df.columns = ['location', 'size', 'total_sqft', 'price']\n",
        "\n",
        "# Convert 'total_sqft' and 'price' to numeric values\n",
        "df['total_sqft'] = pd.to_numeric(df['total_sqft'], errors='coerce')\n",
        "df['price'] = pd.to_numeric(df['price'], errors='coerce')\n",
        "\n",
        "# Calculate price per square foot\n",
        "df['price_per_sqft'] = df['price'] / df['total_sqft']\n",
        "\n",
        "# Drop rows with invalid 'price_per_sqft'\n",
        "df = df.dropna(subset=['price_per_sqft'])\n",
        "\n",
        "# Group by location and calculate the average price per square foot\n",
        "location_price_per_sqft = df.groupby('location')['price_per_sqft'].mean().reset_index()\n",
        "\n",
        "# Sort localities by price per square foot\n",
        "sorted_locations = location_price_per_sqft.sort_values(by='price_per_sqft', ascending=False)\n",
        "\n",
        "# Display the sorted locations\n",
        "print(sorted_locations)\n",
        "\n",
        "# Optionally, save the result to a new CSV file\n",
        "sorted_locations.to_csv('sorted_localities_by_price_per_sqft.csv', index=False)\n"
      ]
    },
    {
      "cell_type": "markdown",
      "metadata": {
        "id": "dawvpAaxOLqN"
      },
      "source": [
        "### Web scraping real-time stats for key areas\n",
        "```python\n",
        "# Here we are getting the road/traffic conditions using Twitter/Web\n",
        "from selenium import webdriver\n",
        "from selenium.webdriver.chrome.service import Service\n",
        "from selenium.webdriver.common.by import By\n",
        "from webdriver_manager.chrome import ChromeDriverManager\n",
        "\n",
        "top_5_locations = sorted_locations.head(5)['location'].tolist()\n",
        "\n",
        "# Step 3: Use Selenium to search for road quality for the top 5 locations\n",
        "chrome_options = webdriver.ChromeOptions()\n",
        "chrome_options.add_argument(\"--headless\")\n",
        "chrome_options.add_argument(\"--no-sandbox\")\n",
        "chrome_options.add_argument(\"--disable-dev-shm-usage\")\n",
        "\n",
        "driver = webdriver.Chrome(service=Service(ChromeDriverManager().install()), options=chrome_options)\n",
        "\n",
        "road_quality_info = {}\n",
        "\n",
        "for location in top_5_locations:\n",
        "    search_query = f\"{location} road quality\"\n",
        "    driver.get(f\"https://www.google.com/search?q={search_query}\")\n",
        "    try:\n",
        "        snippet = driver.find_element(By.XPATH, '//div[@class=\"BNeawe s3v9rd AP7Wnd\"]').text\n",
        "        road_quality_info[location] = snippet\n",
        "    except:\n",
        "        road_quality_info[location] = \"No information found\"\n",
        "\n",
        "driver.quit()\n",
        "\n",
        "# Print road quality information\n",
        "for location, info in road_quality_info.items():\n",
        "    print(f\"Location: {location}\\nRoad Quality: {info}\\n\")\n",
        "\n",
        "# Step 4: Rank Locations Based on Road Quality\n",
        "ranked_locations = sorted(road_quality_info.items(), key=lambda item: item[1], reverse=True)\n",
        "print(\"Ranked Locations Based on Road Quality:\")\n",
        "for rank, (location, info) in enumerate(ranked_locations, start=1):\n",
        "    print(f\"{rank}. {location}: {info}\")\n",
        "\n",
        "```"
      ]
    },
    {
      "cell_type": "markdown",
      "metadata": {
        "id": "AlYx5frnEd84"
      },
      "source": [
        "# 2. Dividing the City into Localities\n",
        "We divide the city into smaller localities. This can be done using a grid, existing administrative boundaries, or other methods. For simplicity, we use the centroids of city regions."
      ]
    },
    {
      "cell_type": "code",
      "execution_count": null,
      "metadata": {
        "id": "IzYMsiDKEf4H"
      },
      "outputs": [],
      "source": [
        "# Divide the city into localities based on the map geometry\n",
        "localities = city_map['geometry'].apply(lambda x: x.centroid)  # Simple centroid-based division"
      ]
    },
    {
      "cell_type": "markdown",
      "metadata": {
        "id": "AnHP8v5-Ei6k"
      },
      "source": [
        "# 3. Calculating Parameters for Each Locality\n",
        "Next, we calculate key parameters for each locality: population, average age, socioeconomic status, road size, and hospital type."
      ]
    },
    {
      "cell_type": "code",
      "execution_count": null,
      "metadata": {
        "id": "B9p-RXiaEnOB"
      },
      "outputs": [],
      "source": [
        "def calculate_locality_data(locality_geom, population_data, age_data, socioeconomic_data, road_data, hospital_data):\n",
        "    population = population_data[population_data['geometry'].within(locality_geom)]['population'].sum()\n",
        "    age_group = age_data[age_data['geometry'].within(locality_geom)]['age'].mean()\n",
        "    socioeconomic_status = socioeconomic_data[socioeconomic_data['geometry'].within(locality_geom)]['socioeconomic'].mean()\n",
        "    road_size = road_data[road_data['geometry'].within(locality_geom)]['road_width'].mean()\n",
        "    nearest_hospital = hospital_data[hospital_data['geometry'].nearest(locality_geom)]['hospital_type'].values[0]\n",
        "\n",
        "    return {\n",
        "        'Population': population,\n",
        "        'Age_Group': age_group,\n",
        "        'Socioeconomic_Status': socioeconomic_status,\n",
        "        'Road_Size': road_size,\n",
        "        'Hospital_Type': nearest_hospital\n",
        "    }\n",
        "\n",
        "# Apply the function to each locality\n",
        "locality_scores = []\n",
        "for locality in localities:\n",
        "    locality_data = calculate_locality_data(locality, population_data, age_data, socioeconomic_data, road_data, hospital_data)\n",
        "    locality_scores.append(locality_data)\n",
        "\n",
        "locality_scores_df = pd.DataFrame(locality_scores)\n"
      ]
    },
    {
      "cell_type": "markdown",
      "metadata": {
        "id": "GDGHnpKFEu2L"
      },
      "source": [
        "# 4. Scoring Localities\n",
        "With the calculated parameters, we now score each locality to determine the need and type of ambulance\n",
        "\n",
        "### Scoring Function\n"
      ]
    },
    {
      "cell_type": "code",
      "execution_count": null,
      "metadata": {
        "id": "CIQrOBAwE2e-"
      },
      "outputs": [],
      "source": [
        "def score_locality(row):\n",
        "    score = (\n",
        "        row['Population'] * 0.4 +\n",
        "        row['Age_Group'] * 0.3 +\n",
        "        row['Socioeconomic_Status'] * 0.2 +\n",
        "        row['Road_Size'] * 0.1\n",
        "    )\n",
        "    return score\n",
        "\n",
        "locality_scores_df['Score'] = locality_scores_df.apply(score_locality, axis=1)\n",
        "\n",
        "# This function assigns a score to each locality based on the weighted parameters. The weights can be adjusted based on the specific needs of your city.\n"
      ]
    },
    {
      "cell_type": "markdown",
      "metadata": {
        "id": "7OCBUV3sE5UK"
      },
      "source": [
        "# 5. Determining Ambulance Type\n",
        "The type of ambulance to deploy is determined based on the locality's score, road size, and hospital type.\n",
        "\n",
        "### Ambulance Type Determination"
      ]
    },
    {
      "cell_type": "code",
      "execution_count": null,
      "metadata": {
        "id": "NzbJ-3hyFMTy"
      },
      "outputs": [],
      "source": [
        "def determine_ambulance_type(row):\n",
        "    if row['Hospital_Type'] == 'Super Speciality':\n",
        "        return 'Large, ALS' if row['Road_Size'] >= 6 else 'Small, ALS'\n",
        "    elif row['Hospital_Type'] == 'Cardiac':\n",
        "        return 'Cardiac Ambulance' if row['Road_Size'] >= 6 else 'Small, Cardiac Ambulance'\n",
        "    elif row['Hospital_Type'] == 'Eye':\n",
        "        return 'Basic Ambulance' if row['Road_Size'] >= 6 else 'Small, Basic Ambulance'\n",
        "    else:\n",
        "        return 'Standard Ambulance' if row['Road_Size'] >= 6 else 'Small Ambulance'\n",
        "\n",
        "locality_scores_df['Ambulance_Type'] = locality_scores_df.apply(determine_ambulance_type, axis=1)\n"
      ]
    },
    {
      "cell_type": "markdown",
      "metadata": {
        "id": "mkmn1TKnFPvS"
      },
      "source": [
        "# 6. Placing Ambulances\n",
        "Finally, we allocate the ambulances to the localities based on their scores and the determined ambulance type.\n",
        "\n",
        "### Ambulance Placement"
      ]
    },
    {
      "cell_type": "code",
      "execution_count": null,
      "metadata": {
        "id": "u6xqANySFSy_"
      },
      "outputs": [],
      "source": [
        "def place_ambulances(locality_scores_df):\n",
        "    placements = []\n",
        "    for index, row in locality_scores_df.iterrows():\n",
        "        placements.append((row['Locality'], row['Ambulance_Type'], row['Score']))\n",
        "    return placements\n",
        "\n",
        "placements = place_ambulances(locality_scores_df)\n",
        "placements\n"
      ]
    },
    {
      "cell_type": "markdown",
      "metadata": {
        "id": "PbG6lYhPfUAm"
      },
      "source": [
        "This step finalizes the placement of ambulances. It provides a list of localities with the recommended type of ambulance and the calculated score for each."
      ]
    }
  ],
  "metadata": {
    "colab": {
      "provenance": []
    },
    "kernelspec": {
      "display_name": "Python 3",
      "language": "python",
      "name": "python3"
    },
    "language_info": {
      "codemirror_mode": {
        "name": "ipython",
        "version": 3
      },
      "file_extension": ".py",
      "mimetype": "text/x-python",
      "name": "python",
      "nbconvert_exporter": "python",
      "pygments_lexer": "ipython3",
      "version": "3.11.5"
    },
    "vscode": {
      "interpreter": {
        "hash": "aee8b7b246df8f9039afb4144a1f6fd8d2ca17a180786b69acc140d282b71a49"
      }
    }
  },
  "nbformat": 4,
  "nbformat_minor": 0
}
